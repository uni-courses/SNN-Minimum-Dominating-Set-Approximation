{
 "cells": [
  {
   "cell_type": "code",
   "execution_count": 1,
   "id": "9bb043cf-8766-4e7e-9c87-86797cf61643",
   "metadata": {},
   "outputs": [],
   "source": [
    "import numpy as np\n",
    "import matplotlib.pyplot as plt\n",
    "import networkx as nx\n",
    "import networkx.algorithms.approximation as nxaa\n",
    "import sys\n",
    "import random\n",
    "import itertools\n",
    "import time\n",
    "from networkx.algorithms.approximation import dominating_set"
   ]
  },
  {
   "cell_type": "markdown",
   "id": "3ffc0fbc-1ea4-4bb5-b49a-56edfcebf581",
   "metadata": {},
   "source": [
    "# Alipour Approximation Ratio Test\n",
    "In this notebook, I'm going to test whether the approximation ratio described in Alipour ([2019](https://doi.org/10.48550/arXiv.2012.04883)) actually holds. The ratios are described in the following sentence: \"We prove that the approximation factor of this algorithm in planar triangle free graphs is 16 and 32 for MTDS problem and MDS problem, respectively.\"\n",
    "\n",
    "This thus means that we should expect dominating sets that are up to 32 times larger than the minimum dominating set. I'm assuming that this worst case is unlikely to happen, but luckily this algorithm has a runtime bounded by O(m*n^2) in the naively centralised case as implemented below. The naive algorithm for the exact minimum dominating set has a runtime of O(2^n) which is considerably worse with large n.\n",
    "\n",
    "Given the above runtimes, I expect the following procedure to be feasible:\n",
    "1. Create random planar triangle free graphs for testing\n",
    "2. Run the exact minimum dominating set algorithm on this graph once and save the result.\n",
    "3. (Optionally) run the networkx minimum dominating set approximation algorithm as a sanity check.\n",
    "4. Run the Alipour algorithm many times and collect the size of the largest returned MDS.\n",
    "5. Compare the sizes of the MDSs that the different procedures return (exact, networkx, alipour)"
   ]
  },
  {
   "cell_type": "code",
   "execution_count": 2,
   "id": "9d7c2c44-5274-4ab9-b97c-976c35befe00",
   "metadata": {},
   "outputs": [],
   "source": [
    "def alipour(G, m):\n",
    "    \"\"\"\n",
    "    This code implements the alipour algorithm as described in the paper https://doi.org/10.48550/arXiv.2012.04883\n",
    "    The algorithm is implemented on a single computer instead of an actual network of nodes.\n",
    "    \"\"\"\n",
    "    for node in G.nodes:\n",
    "        G.nodes[node]['marks'] = 0\n",
    "        G.nodes[node]['random_number'] = random.random()\n",
    "        G.nodes[node]['weight'] = G.degree(node) + G.nodes[node]['random_number']\n",
    "\n",
    "    for node in G.nodes:\n",
    "        max_weight = max(G.nodes[n][\"weight\"] for n in nx.all_neighbors(G,node))\n",
    "        for n in nx.all_neighbors(G,node):\n",
    "            if G.nodes[n][\"weight\"] == max_weight: # should all max weight neurons be marked or only one of them?\n",
    "                G.nodes[n][\"marks\"] += 1\n",
    "\n",
    "    for _ in range(m):\n",
    "\n",
    "        for node in G.nodes:\n",
    "            G.nodes[node]['weight'] = G.nodes[node]['marks'] + G.nodes[node]['random_number']\n",
    "            G.nodes[node][\"marks\"] = 0\n",
    "\n",
    "        for node in G.nodes:\n",
    "            max_weight = max(G.nodes[n][\"weight\"] for n in nx.all_neighbors(G,node))\n",
    "            for n in nx.all_neighbors(G,node):\n",
    "                if G.nodes[n][\"weight\"] == max_weight:\n",
    "                    G.nodes[n][\"marks\"] += 1\n",
    "\n",
    "    dset = []\n",
    "    for n in G.nodes.data():\n",
    "        if (n[1]['marks']>0):\n",
    "            dset.append(n[0])\n",
    "            \n",
    "    return dset"
   ]
  },
  {
   "cell_type": "code",
   "execution_count": 3,
   "id": "d0ee5611-1dcb-4f47-818b-882968a715e8",
   "metadata": {},
   "outputs": [],
   "source": [
    "def is_minimal(graph, dominatingset):\n",
    "    \"\"\"\n",
    "    Function checking whether a given dominating set is actually the minimum dominating set.\n",
    "    Warning: Excessive Runtime of at least O(2 ^ n). Explanation here: https://edu.nl/7wthn\n",
    "    \"\"\"\n",
    "    if not nx.is_dominating_set(graph,dominatingset):\n",
    "        return False\n",
    "    for r in range(len(dominatingset)):\n",
    "        for combination in itertools.combinations(graph.nodes, r=r):\n",
    "            if nx.is_dominating_set(graph, list(combination)):\n",
    "                return False\n",
    "    return True"
   ]
  },
  {
   "cell_type": "code",
   "execution_count": 4,
   "id": "1e35350e-b298-4cf0-96b1-2320e2c0d1fd",
   "metadata": {},
   "outputs": [],
   "source": [
    "def find_minimal(graph):\n",
    "    \"\"\"\n",
    "    Function returning a minimal dominating set.\n",
    "    Warning: Excessive Runtime of at least O(2 ^ n). Explanation here: https://edu.nl/7wthn\n",
    "    \"\"\"\n",
    "    for r in range(len(list(graph.nodes))):\n",
    "        for combination in itertools.combinations(graph.nodes, r=r):\n",
    "            if nx.is_dominating_set(graph, list(combination)):\n",
    "                return list(combination)"
   ]
  },
  {
   "cell_type": "markdown",
   "id": "0a84dcda-bae4-44d5-82ec-327a1be2e140",
   "metadata": {},
   "source": [
    "The following code cell shows how to use the is_minimal and find_minimal functions."
   ]
  },
  {
   "cell_type": "code",
   "execution_count": 5,
   "id": "842df5b9-d6c3-4553-b78b-429681a687ed",
   "metadata": {},
   "outputs": [
    {
     "data": {
      "image/png": "[encoded data removed]",
      "text/plain": [
       "<Figure size 432x288 with 1 Axes>"
      ]
     },
     "metadata": {},
     "output_type": "display_data"
    },
    {
     "name": "stdout",
     "output_type": "stream",
     "text": [
      "['b', 'f']\n",
      "True\n"
     ]
    }
   ],
   "source": [
    "GA = nx.Graph()\n",
    "GA.add_nodes_from(['a','b','c','d','e','f','g'], marks=0, random_number=0, weight=0)\n",
    "GA.add_edges_from([('a', 'b'), ('a', 'c'), ('b', 'c'), ('b', 'd'), ('c', 'd'), ('d', 'e'), ('b', 'e'), ('b', 'f'), ('f', 'g')])\n",
    "options = {\"with_labels\": True, \"node_color\": \"white\", \"edgecolors\": \"blue\"}\n",
    "nx.draw_networkx(GA, **options)\n",
    "plt.show()\n",
    "print(find_minimal(GA))\n",
    "print(is_minimal(GA, find_minimal(GA)))"
   ]
  },
  {
   "cell_type": "markdown",
   "id": "558bb10d-1a5e-43d7-ac51-ab1fd4c2c513",
   "metadata": {},
   "source": [
    "## Planar Triangle Free Graphs\n",
    "\n",
    "The following code was written to create planar triangle free graphs."
   ]
  },
  {
   "cell_type": "code",
   "execution_count": 6,
   "id": "7e960b1d-90b8-4e69-9487-ded0eb62742d",
   "metadata": {},
   "outputs": [],
   "source": [
    "def is_planar(G):\n",
    "    # https://networkx.org/documentation/stable/reference/algorithms/generated/networkx.algorithms.planarity.check_planarity.html\n",
    "    is_planar, certificate = nx.check_planarity(G)\n",
    "    return is_planar\n",
    "\n",
    "def is_triangle_free(G):\n",
    "    # https://networkx.org/documentation/stable//reference/algorithms/generated/networkx.algorithms.cluster.triangles.html\n",
    "    triangles = nx.triangles(G).values()\n",
    "    nr_of_triangles = sum(triangles) / 3\n",
    "    if nr_of_triangles == 0:\n",
    "        return True\n",
    "    else:\n",
    "        return False\n",
    "\n",
    "def create_triangle_free_planar_graph(nr_nodes, edge_probability, seed):\n",
    "    G = nx.Graph()\n",
    "    G.add_nodes_from(list(range(nr_nodes)))\n",
    "\n",
    "    # Loop over all edge spaces:\n",
    "    for u in G.nodes():\n",
    "        for v in G.nodes():\n",
    "            # Don't add an edge to a node itself.\n",
    "            if u != v:\n",
    "\n",
    "                # Add edge to compute implications.\n",
    "                G.add_edge(u, v)\n",
    "\n",
    "                # Check if adding edge yields a triangle free and planar graph.\n",
    "                if is_triangle_free(G) and is_planar(G):\n",
    "\n",
    "                    # Apply probability of creating edge\n",
    "                    # TODO: Use 1-edge_probability to get bias against removing edges.\n",
    "                    # TODO: Use seed to get certain list of random booleans.\n",
    "                    if bool(random.getrandbits(1)):\n",
    "                        G.remove_edge(u, v)\n",
    "                else:\n",
    "                    G.remove_edge(u, v)\n",
    "\n",
    "    # Verify all nodes are connected to graph.\n",
    "    if not nx.is_connected(G):\n",
    "        G = add_connections_to_make_graph_connected(G)\n",
    "\n",
    "    return G\n",
    "\n",
    "\n",
    "def add_connections_to_make_graph_connected(G):\n",
    "    # Loop over all edge spaces:\n",
    "    for u in G.nodes():\n",
    "        for v in G.nodes():\n",
    "            # Don't add an edge to a node itself.\n",
    "            if u != v:\n",
    "                if not G.has_edge(u, v):\n",
    "\n",
    "                    # Add edge to compute implications.\n",
    "                    G.add_edge(u, v)\n",
    "\n",
    "                    # Check if adding edge yields a triangle free and planar graph.\n",
    "                    if is_triangle_free(G) and is_planar(G):\n",
    "                        if nx.is_connected(G):\n",
    "                            return G\n",
    "                    else:\n",
    "                        G.remove_edge(u, v)"
   ]
  },
  {
   "cell_type": "markdown",
   "id": "ab1ad3f6-50f6-4a00-a756-5d594215ace4",
   "metadata": {},
   "source": [
    "## Experiment\n",
    "\n",
    "In the following codeblock, an experiment is run in which it is shown how the results of the alipour algorithm compare to the results of the exact minimum dominating set and the networkx approximation in terms of size."
   ]
  },
  {
   "cell_type": "code",
   "execution_count": 7,
   "id": "e87906dc-fb2b-44e7-89c0-1d11e0cf6383",
   "metadata": {},
   "outputs": [
    {
     "name": "stdout",
     "output_type": "stream",
     "text": [
      "3 3 5\n",
      "processed graph of size 10 in 0.3313322067260742 seconds\n",
      "4 6 5\n",
      "processed graph of size 15 in 0.5713369846343994 seconds\n",
      "4 6 6\n",
      "processed graph of size 20 in 0.8606061935424805 seconds\n",
      "5 6 9\n",
      "processed graph of size 25 in 1.2689919471740723 seconds\n",
      "7 8 7\n",
      "processed graph of size 30 in 6.890423059463501 seconds\n",
      "7 9 9\n",
      "processed graph of size 35 in 16.563387870788574 seconds\n",
      "8 12 10\n",
      "processed graph of size 40 in 192.485013961792 seconds\n"
     ]
    }
   ],
   "source": [
    "start = time.time()\n",
    "for size in range(10,45,5):\n",
    "    graph = create_triangle_free_planar_graph(size, 0.9, 42)\n",
    "    exact_minimum_dominating_set = len(find_minimal(graph))\n",
    "    networkx_approximate_dominating_set = len(dominating_set.min_weighted_dominating_set(graph))\n",
    "    biggest_alipour_dominating_set = max(len(alipour(graph,50)) for _ in range(100))\n",
    "    print(exact_minimum_dominating_set, networkx_approximate_dominating_set, biggest_alipour_dominating_set)\n",
    "    print(f\"processed graph of size {size} in {time.time()-start} seconds\")\n",
    "    start=time.time()"
   ]
  },
  {
   "cell_type": "markdown",
   "id": "3dc63b32-0d5b-4fca-b709-4f8095135ec8",
   "metadata": {},
   "source": [
    "It's interesting to see that the runtime is horrible for graphs above 35 nodes for the exact algorithm, however in this size, we will likely not see the worst alipour results.\n",
    "\n",
    "The large runtime tells us that we might want to look into saving the graphs and their exact minimum dominating set to make sure that we don't have to recompute them all the time. Parallelising this task could help as well, but this would only decrease the compute time by the amount of cores in a computer, while the complexity grows exponentially, so this would only help us get a few nodes further above 35. An example of this approach can be found [here](https://github.com/adiehl96/BayesianNetworks/blob/main/project2/project2.ipynb)\n",
    "\n",
    "There is also a paper (Fomin [2004](https://sci-hub.se/10.1007/978-3-540-30559-0_21)) on algorithms to find exact minimal graphs which have complexities of the form O(c^n) whith a c that is as close as possible to 1. However their algorithm is not straightforward to read, so I don't know how quickly I could implement it."
   ]
  },
  {
   "cell_type": "code",
   "execution_count": null,
   "id": "bb94dad1-9d09-40f3-bbd3-840c42adf72d",
   "metadata": {},
   "outputs": [],
   "source": []
  }
 ],
 "metadata": {
  "kernelspec": {
   "display_name": "Python 3 (ipykernel)",
   "language": "python",
   "name": "python3"
  },
  "language_info": {
   "codemirror_mode": {
    "name": "ipython",
    "version": 3
   },
   "file_extension": ".py",
   "mimetype": "text/x-python",
   "name": "python",
   "nbconvert_exporter": "python",
   "pygments_lexer": "ipython3",
   "version": "3.8.13"
  }
 },
 "nbformat": 4,
 "nbformat_minor": 5
}
